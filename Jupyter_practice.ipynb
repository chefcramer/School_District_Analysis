{
 "cells": [
  {
   "cell_type": "code",
   "execution_count": null,
   "id": "3979f6d3",
   "metadata": {},
   "outputs": [],
   "source": []
  }
 ],
 "metadata": {
  "kernelspec": {
   "display_name": "PythonData2",
   "language": "python",
   "name": "pythondata2"
  }
 },
 "nbformat": 4,
 "nbformat_minor": 5
}
